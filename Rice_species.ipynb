{
  "cells": [
    {
      "cell_type": "code",
      "execution_count": null,
      "metadata": {
        "colab": {
          "base_uri": "https://localhost:8080/"
        },
        "id": "YorwlPY0FxOj",
        "outputId": "43938e2a-b1de-4ec8-93be-3383060108a5"
      },
      "outputs": [
        {
          "output_type": "stream",
          "name": "stdout",
          "text": [
            "Mounted at /content/gdrive\n"
          ]
        }
      ],
      "source": [
        "from google.colab import drive\n",
        "drive.mount(\"/content/gdrive\")"
      ]
    },
    {
      "cell_type": "code",
      "execution_count": null,
      "metadata": {
        "id": "fPAylpmcl02O"
      },
      "outputs": [],
      "source": [
        "import tensorflow as tf\n",
        "import pandas as pd\n",
        "import matplotlib.pyplot as plt \n",
        "from keras.models import Sequential\n",
        "from keras import layers\n",
        "from keras.layers import Conv2D,MaxPool2D,Flatten\n",
        "from keras.callbacks import EarlyStopping\n",
        "from keras.preprocessing.image import ImageDataGenerator\n",
        "from tensorflow.keras.utils import image_dataset_from_directory"
      ]
    },
    {
      "cell_type": "code",
      "execution_count": null,
      "metadata": {
        "colab": {
          "base_uri": "https://localhost:8080/"
        },
        "id": "PprYGJkNmAk5",
        "outputId": "67948e79-22c6-48ce-c72c-b81476be0bf1"
      },
      "outputs": [
        {
          "output_type": "stream",
          "name": "stdout",
          "text": [
            "Found 7000 images belonging to 5 classes.\n",
            "Found 3000 images belonging to 5 classes.\n"
          ]
        }
      ],
      "source": [
        "data=ImageDataGenerator(validation_split=0.3,rescale=1./255)\n",
        "data_path='/content/gdrive/MyDrive/Colab Notebooks/data/Rice_Image'\n",
        "\n",
        "train = data.flow_from_directory(\n",
        "       data_path,\n",
        "        subset='training',\n",
        "        target_size=(256 , 256),\n",
        "        batch_size=32,class_mode = \"categorical\")\n",
        "\n",
        "test = data.flow_from_directory(\n",
        "       data_path,\n",
        "        subset='validation',\n",
        "        target_size=(256 , 256),\n",
        "        batch_size=32, class_mode = \"categorical\" )"
      ]
    },
    {
      "cell_type": "code",
      "execution_count": null,
      "metadata": {
        "id": "SwsgaBIXnJEp"
      },
      "outputs": [],
      "source": [
        "model=Sequential()\n",
        "model.add(layers.Conv2D(filters=128,kernel_size=3,input_shape=(256,256,3),activation='ReLU'))\n",
        "model.add(layers.MaxPool2D())\n",
        "model.add(layers.Conv2D(filters=64,kernel_size=3,activation='ReLU'))\n",
        "model.add(layers.MaxPool2D())\n",
        "model.add(layers.Conv2D(filters=32,kernel_size=3,activation='ReLU'))\n",
        "model.add(layers.MaxPool2D())\n",
        "model.add(layers.Flatten())\n",
        "model.add(layers.Dense(64,activation='ReLU'))\n",
        "model.add(layers.Dense(5,activation='softmax'))"
      ]
    },
    {
      "cell_type": "code",
      "execution_count": null,
      "metadata": {
        "id": "uJu0eyCZoill"
      },
      "outputs": [],
      "source": [
        "early_stopping = EarlyStopping(\n",
        "    monitor='val_loss',\n",
        "    patience=5,\n",
        "    mode=\"auto\"\n",
        ")"
      ]
    },
    {
      "cell_type": "code",
      "execution_count": null,
      "metadata": {
        "colab": {
          "base_uri": "https://localhost:8080/"
        },
        "id": "sk3kxSJdomnz",
        "outputId": "1d44078f-4c55-488f-cb62-53bbde9fd460"
      },
      "outputs": [
        {
          "output_type": "stream",
          "name": "stdout",
          "text": [
            "Model: \"sequential\"\n",
            "_________________________________________________________________\n",
            " Layer (type)                Output Shape              Param #   \n",
            "=================================================================\n",
            " conv2d (Conv2D)             (None, 254, 254, 128)     3584      \n",
            "                                                                 \n",
            " max_pooling2d (MaxPooling2D  (None, 127, 127, 128)    0         \n",
            " )                                                               \n",
            "                                                                 \n",
            " conv2d_1 (Conv2D)           (None, 125, 125, 64)      73792     \n",
            "                                                                 \n",
            " max_pooling2d_1 (MaxPooling  (None, 62, 62, 64)       0         \n",
            " 2D)                                                             \n",
            "                                                                 \n",
            " conv2d_2 (Conv2D)           (None, 60, 60, 32)        18464     \n",
            "                                                                 \n",
            " max_pooling2d_2 (MaxPooling  (None, 30, 30, 32)       0         \n",
            " 2D)                                                             \n",
            "                                                                 \n",
            " flatten (Flatten)           (None, 28800)             0         \n",
            "                                                                 \n",
            " dense (Dense)               (None, 64)                1843264   \n",
            "                                                                 \n",
            " dense_1 (Dense)             (None, 5)                 325       \n",
            "                                                                 \n",
            "=================================================================\n",
            "Total params: 1,939,429\n",
            "Trainable params: 1,939,429\n",
            "Non-trainable params: 0\n",
            "_________________________________________________________________\n",
            "Epoch 1/50\n",
            "219/219 [==============================] - 2646s 12s/step - loss: 0.1954 - accuracy: 0.9293 - val_loss: 0.0844 - val_accuracy: 0.9740\n",
            "Epoch 2/50\n",
            "219/219 [==============================] - 2253s 10s/step - loss: 0.0659 - accuracy: 0.9773 - val_loss: 0.0813 - val_accuracy: 0.9727\n",
            "Epoch 3/50\n",
            "219/219 [==============================] - 2250s 10s/step - loss: 0.0597 - accuracy: 0.9781 - val_loss: 0.0958 - val_accuracy: 0.9670\n",
            "Epoch 4/50\n",
            "219/219 [==============================] - 2246s 10s/step - loss: 0.0500 - accuracy: 0.9810 - val_loss: 0.0613 - val_accuracy: 0.9827\n",
            "Epoch 5/50\n",
            "219/219 [==============================] - 2220s 10s/step - loss: 0.0425 - accuracy: 0.9864 - val_loss: 0.0784 - val_accuracy: 0.9767\n",
            "Epoch 6/50\n",
            "219/219 [==============================] - 2184s 10s/step - loss: 0.0423 - accuracy: 0.9851 - val_loss: 0.0703 - val_accuracy: 0.9803\n",
            "Epoch 7/50\n",
            "219/219 [==============================] - 2196s 10s/step - loss: 0.0385 - accuracy: 0.9856 - val_loss: 0.0685 - val_accuracy: 0.9813\n",
            "Epoch 8/50\n",
            "219/219 [==============================] - 2187s 10s/step - loss: 0.0287 - accuracy: 0.9893 - val_loss: 0.0746 - val_accuracy: 0.9833\n",
            "Epoch 9/50\n",
            "219/219 [==============================] - 2198s 10s/step - loss: 0.0287 - accuracy: 0.9893 - val_loss: 0.0898 - val_accuracy: 0.9790\n"
          ]
        }
      ],
      "source": [
        "model.summary()\n",
        "model.compile(optimizer='adam',loss='categorical_crossentropy',metrics=['accuracy'])\n",
        "history=model.fit(train,\n",
        "                  epochs=50,\n",
        "                  validation_data=test,\n",
        "                  callbacks=early_stopping,\n",
        "                  verbose=1)"
      ]
    },
    {
      "cell_type": "code",
      "source": [
        "from tensorflow.keras.models import save_model\n",
        "save_model(model, \"model.h5\")"
      ],
      "metadata": {
        "id": "G4jYo6O68dR7"
      },
      "execution_count": null,
      "outputs": []
    },
    {
      "cell_type": "code",
      "source": [
        "results = model.evaluate(test, verbose=1)\n",
        "print(results)"
      ],
      "metadata": {
        "colab": {
          "base_uri": "https://localhost:8080/"
        },
        "id": "Ld4fYBON9QLH",
        "outputId": "8350262c-ce07-46b3-f6e1-26c607e7e34e"
      },
      "execution_count": null,
      "outputs": [
        {
          "output_type": "stream",
          "name": "stdout",
          "text": [
            "94/94 [==============================] - 213s 2s/step - loss: 0.0898 - accuracy: 0.9790\n",
            "[0.08984597772359848, 0.9789999723434448]\n"
          ]
        }
      ]
    }
  ],
  "metadata": {
    "accelerator": "TPU",
    "colab": {
      "collapsed_sections": [],
      "name": "Rice_species.ipynb",
      "provenance": [],
      "authorship_tag": "ABX9TyNcaEbEdsVc/lYDrxf8wEQ+"
    },
    "gpuClass": "standard",
    "kernelspec": {
      "display_name": "Python 3",
      "name": "python3"
    },
    "language_info": {
      "name": "python"
    }
  },
  "nbformat": 4,
  "nbformat_minor": 0
}